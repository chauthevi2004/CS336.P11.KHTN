{
 "cells": [
  {
   "cell_type": "code",
   "execution_count": 1,
   "id": "94a94512",
   "metadata": {
    "execution": {
     "iopub.execute_input": "2024-10-11T23:05:10.488079Z",
     "iopub.status.busy": "2024-10-11T23:05:10.487669Z",
     "iopub.status.idle": "2024-10-11T23:05:10.505113Z",
     "shell.execute_reply": "2024-10-11T23:05:10.504106Z"
    },
    "papermill": {
     "duration": 0.025536,
     "end_time": "2024-10-11T23:05:10.507035",
     "exception": false,
     "start_time": "2024-10-11T23:05:10.481499",
     "status": "completed"
    },
    "tags": []
   },
   "outputs": [
    {
     "name": "stdout",
     "output_type": "stream",
     "text": [
      "/kaggle/input/vietnam-textdetect-ocr/OCR-pipeline/OCR-pipeline/vietnamese-ocr\n"
     ]
    }
   ],
   "source": [
    "%cd /kaggle/input/vietnam-textdetect-ocr/OCR-pipeline/OCR-pipeline/vietnamese-ocr"
   ]
  },
  {
   "cell_type": "code",
   "execution_count": 2,
   "id": "50d9d367",
   "metadata": {
    "_cell_guid": "b1076dfc-b9ad-4769-8c92-a6c4dae69d19",
    "_uuid": "8f2839f25d086af736a60e9eeb907d3b93b6e0e5",
    "execution": {
     "iopub.execute_input": "2024-10-11T23:05:10.517019Z",
     "iopub.status.busy": "2024-10-11T23:05:10.516735Z",
     "iopub.status.idle": "2024-10-11T23:05:31.880151Z",
     "shell.execute_reply": "2024-10-11T23:05:31.878933Z"
    },
    "papermill": {
     "duration": 21.371138,
     "end_time": "2024-10-11T23:05:31.882782",
     "exception": false,
     "start_time": "2024-10-11T23:05:10.511644",
     "status": "completed"
    },
    "tags": []
   },
   "outputs": [],
   "source": [
    "!pip install -q -r requirement.txt"
   ]
  },
  {
   "cell_type": "code",
   "execution_count": 3,
   "id": "fb707efe",
   "metadata": {
    "execution": {
     "iopub.execute_input": "2024-10-11T23:05:31.893733Z",
     "iopub.status.busy": "2024-10-11T23:05:31.892843Z",
     "iopub.status.idle": "2024-10-11T23:05:44.675804Z",
     "shell.execute_reply": "2024-10-11T23:05:44.674619Z"
    },
    "papermill": {
     "duration": 12.791031,
     "end_time": "2024-10-11T23:05:44.678322",
     "exception": false,
     "start_time": "2024-10-11T23:05:31.887291",
     "status": "completed"
    },
    "tags": []
   },
   "outputs": [],
   "source": [
    "!pip install -q Pillow==9.5.0"
   ]
  },
  {
   "cell_type": "code",
   "execution_count": 4,
   "id": "b6811d4c",
   "metadata": {
    "execution": {
     "iopub.execute_input": "2024-10-11T23:05:44.689113Z",
     "iopub.status.busy": "2024-10-11T23:05:44.688359Z",
     "iopub.status.idle": "2024-10-11T23:06:17.418957Z",
     "shell.execute_reply": "2024-10-11T23:06:17.417910Z"
    },
    "papermill": {
     "duration": 32.738441,
     "end_time": "2024-10-11T23:06:17.421382",
     "exception": false,
     "start_time": "2024-10-11T23:05:44.682941",
     "status": "completed"
    },
    "tags": []
   },
   "outputs": [],
   "source": [
    "!pip install -q paddleocr\n",
    "!pip install -q paddlepaddle"
   ]
  },
  {
   "cell_type": "code",
   "execution_count": 5,
   "id": "fbd50428",
   "metadata": {
    "execution": {
     "iopub.execute_input": "2024-10-11T23:06:17.432907Z",
     "iopub.status.busy": "2024-10-11T23:06:17.432190Z",
     "iopub.status.idle": "2024-10-11T23:06:20.267771Z",
     "shell.execute_reply": "2024-10-11T23:06:20.266688Z"
    },
    "papermill": {
     "duration": 2.843531,
     "end_time": "2024-10-11T23:06:20.270179",
     "exception": false,
     "start_time": "2024-10-11T23:06:17.426648",
     "status": "completed"
    },
    "tags": []
   },
   "outputs": [
    {
     "name": "stdout",
     "output_type": "stream",
     "text": [
      "Selecting previously unselected package libssl1.1:amd64.\r\n",
      "(Reading database ... 123110 files and directories currently installed.)\r\n",
      "Preparing to unpack libssl1.1_1.1.1f-1ubuntu2.19_amd64.deb ...\r\n",
      "Unpacking libssl1.1:amd64 (1.1.1f-1ubuntu2.19) ...\r\n",
      "Setting up libssl1.1:amd64 (1.1.1f-1ubuntu2.19) ...\r\n",
      "Processing triggers for libc-bin (2.35-0ubuntu3.8) ...\r\n"
     ]
    }
   ],
   "source": [
    "!sudo dpkg -i libssl1.1_1.1.1f-1ubuntu2.19_amd64.deb"
   ]
  },
  {
   "cell_type": "code",
   "execution_count": 6,
   "id": "e28848b5",
   "metadata": {
    "execution": {
     "iopub.execute_input": "2024-10-11T23:06:20.282285Z",
     "iopub.status.busy": "2024-10-11T23:06:20.281950Z",
     "iopub.status.idle": "2024-10-11T23:06:33.309708Z",
     "shell.execute_reply": "2024-10-11T23:06:33.308756Z"
    },
    "papermill": {
     "duration": 13.03639,
     "end_time": "2024-10-11T23:06:33.312019",
     "exception": false,
     "start_time": "2024-10-11T23:06:20.275629",
     "status": "completed"
    },
    "scrolled": true,
    "tags": []
   },
   "outputs": [
    {
     "name": "stdout",
     "output_type": "stream",
     "text": [
      "Collecting gdown\r\n",
      "  Downloading gdown-5.2.0-py3-none-any.whl.metadata (5.8 kB)\r\n",
      "Requirement already satisfied: beautifulsoup4 in /opt/conda/lib/python3.10/site-packages (from gdown) (4.12.3)\r\n",
      "Requirement already satisfied: filelock in /opt/conda/lib/python3.10/site-packages (from gdown) (3.15.1)\r\n",
      "Requirement already satisfied: requests[socks] in /opt/conda/lib/python3.10/site-packages (from gdown) (2.32.3)\r\n",
      "Requirement already satisfied: tqdm in /opt/conda/lib/python3.10/site-packages (from gdown) (4.66.4)\r\n",
      "Requirement already satisfied: soupsieve>1.2 in /opt/conda/lib/python3.10/site-packages (from beautifulsoup4->gdown) (2.5)\r\n",
      "Requirement already satisfied: charset-normalizer<4,>=2 in /opt/conda/lib/python3.10/site-packages (from requests[socks]->gdown) (3.3.2)\r\n",
      "Requirement already satisfied: idna<4,>=2.5 in /opt/conda/lib/python3.10/site-packages (from requests[socks]->gdown) (3.7)\r\n",
      "Requirement already satisfied: urllib3<3,>=1.21.1 in /opt/conda/lib/python3.10/site-packages (from requests[socks]->gdown) (1.26.18)\r\n",
      "Requirement already satisfied: certifi>=2017.4.17 in /opt/conda/lib/python3.10/site-packages (from requests[socks]->gdown) (2024.7.4)\r\n",
      "Requirement already satisfied: PySocks!=1.5.7,>=1.5.6 in /opt/conda/lib/python3.10/site-packages (from requests[socks]->gdown) (1.7.1)\r\n",
      "Downloading gdown-5.2.0-py3-none-any.whl (18 kB)\r\n",
      "Installing collected packages: gdown\r\n",
      "Successfully installed gdown-5.2.0\r\n"
     ]
    }
   ],
   "source": [
    "!pip install gdown"
   ]
  },
  {
   "cell_type": "code",
   "execution_count": 7,
   "id": "1277525b",
   "metadata": {
    "execution": {
     "iopub.execute_input": "2024-10-11T23:06:33.325420Z",
     "iopub.status.busy": "2024-10-11T23:06:33.324580Z",
     "iopub.status.idle": "2024-10-11T23:06:36.577403Z",
     "shell.execute_reply": "2024-10-11T23:06:36.576467Z"
    },
    "papermill": {
     "duration": 3.261993,
     "end_time": "2024-10-11T23:06:36.579817",
     "exception": false,
     "start_time": "2024-10-11T23:06:33.317824",
     "status": "completed"
    },
    "tags": []
   },
   "outputs": [],
   "source": [
    "import paddleocr"
   ]
  },
  {
   "cell_type": "code",
   "execution_count": 8,
   "id": "ca2822de",
   "metadata": {
    "execution": {
     "iopub.execute_input": "2024-10-11T23:06:36.592657Z",
     "iopub.status.busy": "2024-10-11T23:06:36.592219Z",
     "iopub.status.idle": "2024-10-11T23:06:41.574312Z",
     "shell.execute_reply": "2024-10-11T23:06:41.573312Z"
    },
    "papermill": {
     "duration": 4.991117,
     "end_time": "2024-10-11T23:06:41.576744",
     "exception": false,
     "start_time": "2024-10-11T23:06:36.585627",
     "status": "completed"
    },
    "tags": []
   },
   "outputs": [],
   "source": [
    "import os\n",
    "import cv2\n",
    "import matplotlib.pyplot as plt\n",
    "from PIL import Image\n",
    "\n",
    "from vietocr.vietocr.tool.predictor import Predictor\n",
    "from vietocr.vietocr.tool.config import Cfg\n",
    "\n",
    "from PaddleOCR import PaddleOCR, draw_ocr"
   ]
  },
  {
   "cell_type": "code",
   "execution_count": 9,
   "id": "5da6a837",
   "metadata": {
    "execution": {
     "iopub.execute_input": "2024-10-11T23:06:41.590079Z",
     "iopub.status.busy": "2024-10-11T23:06:41.589133Z",
     "iopub.status.idle": "2024-10-11T23:06:41.602664Z",
     "shell.execute_reply": "2024-10-11T23:06:41.601815Z"
    },
    "papermill": {
     "duration": 0.02199,
     "end_time": "2024-10-11T23:06:41.604570",
     "exception": false,
     "start_time": "2024-10-11T23:06:41.582580",
     "status": "completed"
    },
    "tags": []
   },
   "outputs": [],
   "source": [
    "import cv2\n",
    "from PIL import Image\n",
    "import matplotlib.pyplot as plt\n",
    "\n",
    "FONT = './PaddleOCR/doc/fonts/latin.ttf'\n",
    "\n",
    "def predict(recognitor, detector, img_path, padding=4, dpi=100):\n",
    "    # Load image\n",
    "    img = cv2.imread(img_path)\n",
    "\n",
    "    # Text detection\n",
    "    result = detector.ocr(img_path, cls=False, det=True, rec=False)\n",
    "    result = result[:][:][0]\n",
    "\n",
    "    # Filter Boxes\n",
    "    boxes = []\n",
    "    for line in result:\n",
    "        boxes.append([[int(line[0][0]), int(line[0][1])], [int(line[2][0]), int(line[2][1])]])\n",
    "    \n",
    "    # Calculate box areas and sort by area (descending)\n",
    "    box_areas = [(box, (box[1][0] - box[0][0]) * (box[1][1] - box[0][1])) for box in boxes]\n",
    "    sorted_boxes = sorted(box_areas, key=lambda x: x[1], reverse=True)\n",
    "    \n",
    "#     if len(sorted_boxes) <= 5:\n",
    "#         top_boxes = [box for box, _ in sorted_boxes]  # Take all boxes if 6 or fewer\n",
    "#     else:\n",
    "#         top_boxes = [box for box, _ in sorted_boxes[:5]]  # Take the top 6 boxes\n",
    "    top_boxes = [box for box, _ in sorted_boxes]\n",
    "    # Add padding to boxes\n",
    "    for box in top_boxes:\n",
    "        box[0][0] = max(box[0][0] - padding, 0)\n",
    "        box[0][1] = max(box[0][1] - padding, 0)\n",
    "        box[1][0] = min(box[1][0] + padding, img.shape[1])\n",
    "        box[1][1] = min(box[1][1] + padding, img.shape[0])\n",
    "\n",
    "    # Text recognition\n",
    "    texts = []\n",
    "    for box in top_boxes:\n",
    "        cropped_image = img[box[0][1]:box[1][1], box[0][0]:box[1][0]]\n",
    "        try:\n",
    "            cropped_image = Image.fromarray(cropped_image)\n",
    "        except:\n",
    "            continue\n",
    "#         st_time = time.time()\n",
    "        rec_result = recognitor.predict(cropped_image)\n",
    "#         print((time.time() - st_time) * 1000, 'ms')\n",
    "\n",
    "        texts.append(rec_result)\n",
    "\n",
    "    # # Convert boxes to draw\n",
    "    # def get_rectangle_points(x1, y1, x2, y2):\n",
    "    #     return [(x1, y1), (x2, y1), (x2, y2), (x1, y2)]\n",
    "\n",
    "    # _boxes = [get_rectangle_points(boxe[0][0], boxe[0][1], boxe[1][0], boxe[1][1]) for boxe in top_boxes]\n",
    "\n",
    "    # # Draw boxes and texts\n",
    "    # img = draw_ocr(img, _boxes, texts, scores=None, font_path=FONT)\n",
    "\n",
    "    # # Save image\n",
    "    # img_name = img_path.split('/')[-1]\n",
    "\n",
    "    # # Display image\n",
    "    # img = cv2.cvtColor(img, cv2.COLOR_RGB2BGR)\n",
    "    # height, width, depth = img.shape\n",
    "\n",
    "    # # What size does the figure need to be in inches to fit the image?\n",
    "    # figsize = width / float(dpi), height / float(dpi)\n",
    "\n",
    "    # # Create a figure of the right size with one axes that takes up the full figure\n",
    "    # fig = plt.figure(figsize=figsize)\n",
    "    # ax = fig.add_axes([0, 0, 1, 1])\n",
    "\n",
    "    # # Hide spines, ticks, etc.\n",
    "    # ax.axis('off')\n",
    "\n",
    "    # # Display the image.\n",
    "    # ax.imshow(img, cmap='gray')\n",
    "\n",
    "    # plt.show()\n",
    "\n",
    "    # return top_boxes, texts\n",
    "\n",
    "    return texts\n",
    "\n"
   ]
  },
  {
   "cell_type": "code",
   "execution_count": 10,
   "id": "0b848614",
   "metadata": {
    "execution": {
     "iopub.execute_input": "2024-10-11T23:06:41.617262Z",
     "iopub.status.busy": "2024-10-11T23:06:41.616507Z",
     "iopub.status.idle": "2024-10-11T23:07:29.672659Z",
     "shell.execute_reply": "2024-10-11T23:07:29.671817Z"
    },
    "papermill": {
     "duration": 48.064828,
     "end_time": "2024-10-11T23:07:29.674988",
     "exception": false,
     "start_time": "2024-10-11T23:06:41.610160",
     "status": "completed"
    },
    "tags": []
   },
   "outputs": [
    {
     "name": "stdout",
     "output_type": "stream",
     "text": [
      "download https://paddleocr.bj.bcebos.com/PP-OCRv3/english/en_PP-OCRv3_det_infer.tar to /root/.paddleocr/whl/det/en/en_PP-OCRv3_det_infer/en_PP-OCRv3_det_infer.tar\n"
     ]
    },
    {
     "name": "stderr",
     "output_type": "stream",
     "text": [
      "100%|██████████| 4.00M/4.00M [00:10<00:00, 373kiB/s] \n"
     ]
    },
    {
     "name": "stdout",
     "output_type": "stream",
     "text": [
      "download https://paddleocr.bj.bcebos.com/PP-OCRv3/multilingual/latin_PP-OCRv3_rec_infer.tar to /root/.paddleocr/whl/rec/latin/latin_PP-OCRv3_rec_infer/latin_PP-OCRv3_rec_infer.tar\n"
     ]
    },
    {
     "name": "stderr",
     "output_type": "stream",
     "text": [
      "100%|██████████| 10.2M/10.2M [00:17<00:00, 567kiB/s] \n"
     ]
    },
    {
     "name": "stdout",
     "output_type": "stream",
     "text": [
      "download https://paddleocr.bj.bcebos.com/dygraph_v2.0/ch/ch_ppocr_mobile_v2.0_cls_infer.tar to /root/.paddleocr/whl/cls/ch_ppocr_mobile_v2.0_cls_infer/ch_ppocr_mobile_v2.0_cls_infer.tar\n"
     ]
    },
    {
     "name": "stderr",
     "output_type": "stream",
     "text": [
      "100%|██████████| 2.19M/2.19M [00:14<00:00, 148kiB/s]"
     ]
    },
    {
     "name": "stdout",
     "output_type": "stream",
     "text": [
      "[2024/10/11 23:07:29] ppocr DEBUG: Namespace(help='==SUPPRESS==', use_gpu=False, use_xpu=False, use_npu=False, use_mlu=False, ir_optim=True, use_tensorrt=False, min_subgraph_size=15, precision='fp32', gpu_mem=500, gpu_id=0, image_dir=None, page_num=0, det_algorithm='DB', det_model_dir='/root/.paddleocr/whl/det/en/en_PP-OCRv3_det_infer', det_limit_side_len=960, det_limit_type='max', det_box_type='quad', det_db_thresh=0.3, det_db_box_thresh=0.6, det_db_unclip_ratio=1.5, max_batch_size=10, use_dilation=False, det_db_score_mode='fast', det_east_score_thresh=0.8, det_east_cover_thresh=0.1, det_east_nms_thresh=0.2, det_sast_score_thresh=0.5, det_sast_nms_thresh=0.2, det_pse_thresh=0, det_pse_box_thresh=0.85, det_pse_min_area=16, det_pse_scale=1, scales=[8, 16, 32], alpha=1.0, beta=1.0, fourier_degree=5, rec_algorithm='SVTR_LCNet', rec_model_dir='/root/.paddleocr/whl/rec/latin/latin_PP-OCRv3_rec_infer', rec_image_inverse=True, rec_image_shape='3, 48, 320', rec_batch_num=6, max_text_length=25, rec_char_dict_path='/kaggle/input/vietnam-textdetect-ocr/OCR-pipeline/OCR-pipeline/vietnamese-ocr/PaddleOCR/ppocr/utils/dict/latin_dict.txt', use_space_char=True, vis_font_path='./doc/fonts/simfang.ttf', drop_score=0.5, e2e_algorithm='PGNet', e2e_model_dir=None, e2e_limit_side_len=768, e2e_limit_type='max', e2e_pgnet_score_thresh=0.5, e2e_char_dict_path='./ppocr/utils/ic15_dict.txt', e2e_pgnet_valid_set='totaltext', e2e_pgnet_mode='fast', use_angle_cls=False, cls_model_dir='/root/.paddleocr/whl/cls/ch_ppocr_mobile_v2.0_cls_infer', cls_image_shape='3, 48, 192', label_list=['0', '180'], cls_batch_num=6, cls_thresh=0.9, enable_mkldnn=False, cpu_threads=10, use_pdserving=False, warmup=False, sr_model_dir=None, sr_image_shape='3, 32, 128', sr_batch_num=1, draw_img_save_dir='./inference_results', save_crop_res=False, crop_res_save_dir='./output', use_mp=False, total_process_num=1, process_id=0, benchmark=False, save_log_path='./log_output/', show_log=True, use_onnx=False, return_word_box=False, output='./output', table_max_len=488, table_algorithm='TableAttn', table_model_dir=None, merge_no_span_structure=True, table_char_dict_path=None, layout_model_dir=None, layout_dict_path=None, layout_score_threshold=0.5, layout_nms_threshold=0.5, kie_algorithm='LayoutXLM', ser_model_dir=None, re_model_dir=None, use_visual_backbone=True, ser_dict_path='../train_data/XFUND/class_list_xfun.txt', ocr_order_method=None, mode='structure', image_orientation=False, layout=True, table=True, ocr=True, recovery=False, use_pdf2docx_api=False, invert=False, binarize=False, alphacolor=(255, 255, 255), lang='vi', det=True, rec=True, type='ocr', ocr_version='PP-OCRv3')\n"
     ]
    },
    {
     "name": "stderr",
     "output_type": "stream",
     "text": [
      "\n"
     ]
    }
   ],
   "source": [
    "# Config of PaddleOCR\n",
    "detector = PaddleOCR(use_angle_cls=False, lang=\"vi\", use_gpu=True)"
   ]
  },
  {
   "cell_type": "code",
   "execution_count": 11,
   "id": "b9b4601f",
   "metadata": {
    "execution": {
     "iopub.execute_input": "2024-10-11T23:07:29.723290Z",
     "iopub.status.busy": "2024-10-11T23:07:29.722939Z",
     "iopub.status.idle": "2024-10-11T23:07:37.987496Z",
     "shell.execute_reply": "2024-10-11T23:07:37.986700Z"
    },
    "papermill": {
     "duration": 8.291244,
     "end_time": "2024-10-11T23:07:37.989851",
     "exception": false,
     "start_time": "2024-10-11T23:07:29.698607",
     "status": "completed"
    },
    "tags": []
   },
   "outputs": [
    {
     "name": "stderr",
     "output_type": "stream",
     "text": [
      "Downloading: \"https://download.pytorch.org/models/vgg19_bn-c79401a0.pth\" to /root/.cache/torch/hub/checkpoints/vgg19_bn-c79401a0.pth\n",
      "100%|██████████| 548M/548M [00:02<00:00, 202MB/s]\n"
     ]
    }
   ],
   "source": [
    "# Configure of VietOCR\n",
    "config = Cfg.load_config_from_name('vgg_transformer')\n",
    "# config = Cfg.load_config_from_file('vietocr/config.yml')\n",
    "config['weights'] = '/kaggle/input/vietnam-textdetect-ocr/OCR-pipeline/OCR-pipeline/vietnamese-ocr/vietocr/transformerocr.pth'\n",
    "\n",
    "config['cnn']['pretrained'] = True\n",
    "config['predictor']['beamsearch'] = True\n",
    "config['device'] = 'cuda:0' # mps\n",
    "# config['device'] = 'cpu' # mps\n",
    "\n",
    "recognitor = Predictor(config)"
   ]
  },
  {
   "cell_type": "code",
   "execution_count": 12,
   "id": "756619dd",
   "metadata": {
    "execution": {
     "iopub.execute_input": "2024-10-11T23:07:38.043771Z",
     "iopub.status.busy": "2024-10-11T23:07:38.043407Z",
     "iopub.status.idle": "2024-10-12T00:32:48.280725Z",
     "shell.execute_reply": "2024-10-12T00:32:48.279750Z"
    },
    "papermill": {
     "duration": 5110.266475,
     "end_time": "2024-10-12T00:32:48.282996",
     "exception": false,
     "start_time": "2024-10-11T23:07:38.016521",
     "status": "completed"
    },
    "tags": []
   },
   "outputs": [
    {
     "name": "stdout",
     "output_type": "stream",
     "text": [
      "110733\n"
     ]
    },
    {
     "name": "stderr",
     "output_type": "stream",
     "text": [
      "Processing images: 100%|██████████| 15000/15000 [1:25:09<00:00,  2.94image/s]"
     ]
    },
    {
     "name": "stdout",
     "output_type": "stream",
     "text": [
      "Temporary results saved to /kaggle/working/temp_ocr_results.csv\n"
     ]
    },
    {
     "name": "stderr",
     "output_type": "stream",
     "text": [
      "\n"
     ]
    }
   ],
   "source": [
    "import os\n",
    "import csv\n",
    "import time\n",
    "from tqdm import tqdm\n",
    "import re\n",
    "# Define the image directory and output CSV file path\n",
    "image_directory = '/kaggle/input/aic-frames/output'\n",
    "output_csv = '/kaggle/working/ocr_results.csv'\n",
    "temp_output_csv = '/kaggle/working/temp_ocr_results.csv'  # Temporary file\n",
    "\n",
    "# Collect all image paths in the directory and sort them\n",
    "# images_path = sorted([os.path.join(image_directory, img) for img in os.listdir(image_directory) if img.lower().endswith(('.png', '.jpg', '.jpeg'))])\n",
    "\n",
    "# Regular expression to match image files with names starting with \"L13\" or greater\n",
    "prefix_pattern = re.compile(r'^L(1[3-9]|[2-9][0-9])')\n",
    "\n",
    "# Collect image paths that match the pattern and have valid image extensions\n",
    "images_path = sorted([\n",
    "    os.path.join(image_directory, img) \n",
    "    for img in os.listdir(image_directory) \n",
    "    if img.lower().endswith(('.png', '.jpg', '.jpeg')) #and prefix_pattern.match(img)\n",
    "])\n",
    "\n",
    "print(len(images_path))\n",
    "images_path = images_path[75000:90000]\n",
    "\n",
    "# Open the temporary CSV file for writing\n",
    "with open(temp_output_csv, mode='w', newline='', encoding='utf-8') as file:\n",
    "    writer = csv.writer(file)\n",
    "    writer.writerow(['image_path', 'texts'])  # Write the initial header row\n",
    "\n",
    "    # Iterate over each image path and process it, with a progress bar\n",
    "    for img_path in tqdm(images_path, desc=\"Processing images\", unit=\"image\"):\n",
    "        # Call the predict function on the current image\n",
    "        texts = predict(recognitor, detector, img_path, padding=2, dpi=100)\n",
    "        \n",
    "        # Prepare the row for the CSV file\n",
    "        # Join the texts into a single string with a temporary delimiter (\"|\")\n",
    "        row = [img_path, \"|\".join(texts)]\n",
    "        \n",
    "        # Write the row to the temporary CSV file\n",
    "        writer.writerow(row)\n",
    "\n",
    "print(f\"Temporary results saved to {temp_output_csv}\")\n"
   ]
  },
  {
   "cell_type": "code",
   "execution_count": 13,
   "id": "d46376f0",
   "metadata": {
    "execution": {
     "iopub.execute_input": "2024-10-12T00:32:50.736458Z",
     "iopub.status.busy": "2024-10-12T00:32:50.736084Z",
     "iopub.status.idle": "2024-10-12T00:32:51.123942Z",
     "shell.execute_reply": "2024-10-12T00:32:51.122935Z"
    },
    "papermill": {
     "duration": 1.587892,
     "end_time": "2024-10-12T00:32:51.126081",
     "exception": false,
     "start_time": "2024-10-12T00:32:49.538189",
     "status": "completed"
    },
    "tags": []
   },
   "outputs": [
    {
     "name": "stdout",
     "output_type": "stream",
     "text": [
      "Final results saved to /kaggle/working/ocr_results.csv\n"
     ]
    }
   ],
   "source": [
    "import csv\n",
    "\n",
    "# Open the temporary CSV file for reading\n",
    "with open(temp_output_csv, mode='r', encoding='utf-8') as infile:\n",
    "    reader = csv.reader(infile)\n",
    "    headers = next(reader)  # Skip the header row\n",
    "\n",
    "    # Create a list to store the rows with the new structure\n",
    "    processed_rows = []\n",
    "    max_texts_count = 0\n",
    "\n",
    "    # Process each row to split the 'texts' field into separate columns\n",
    "    for row in reader:\n",
    "        image_path = row[0]\n",
    "        texts = row[1].split(\"|\")\n",
    "        max_texts_count = max(max_texts_count, len(texts))\n",
    "        processed_rows.append([image_path] + texts)\n",
    "\n",
    "# Update headers to include columns for each text\n",
    "headers = ['image_path'] + [f'text_{i}' for i in range(max_texts_count)]\n",
    "\n",
    "# Open the final output CSV file for writing\n",
    "with open(output_csv, mode='w', newline='', encoding='utf-8') as outfile:\n",
    "    writer = csv.writer(outfile)\n",
    "    writer.writerow(headers)  # Write the updated header row\n",
    "\n",
    "    # Write the processed rows, padding rows with empty strings where necessary\n",
    "    for row in processed_rows:\n",
    "        row += [''] * (max_texts_count - len(row) + 1)\n",
    "        writer.writerow(row)\n",
    "\n",
    "print(f\"Final results saved to {output_csv}\")\n"
   ]
  }
 ],
 "metadata": {
  "kaggle": {
   "accelerator": "gpu",
   "dataSources": [
    {
     "datasetId": 5595139,
     "sourceId": 9446832,
     "sourceType": "datasetVersion"
    },
    {
     "datasetId": 5860030,
     "sourceId": 9604734,
     "sourceType": "datasetVersion"
    }
   ],
   "dockerImageVersionId": 30761,
   "isGpuEnabled": true,
   "isInternetEnabled": true,
   "language": "python",
   "sourceType": "notebook"
  },
  "kernelspec": {
   "display_name": "Python 3",
   "language": "python",
   "name": "python3"
  },
  "language_info": {
   "codemirror_mode": {
    "name": "ipython",
    "version": 3
   },
   "file_extension": ".py",
   "mimetype": "text/x-python",
   "name": "python",
   "nbconvert_exporter": "python",
   "pygments_lexer": "ipython3",
   "version": "3.10.14"
  },
  "papermill": {
   "default_parameters": {},
   "duration": 5266.366336,
   "end_time": "2024-10-12T00:32:54.192042",
   "environment_variables": {},
   "exception": null,
   "input_path": "__notebook__.ipynb",
   "output_path": "__notebook__.ipynb",
   "parameters": {},
   "start_time": "2024-10-11T23:05:07.825706",
   "version": "2.6.0"
  }
 },
 "nbformat": 4,
 "nbformat_minor": 5
}
